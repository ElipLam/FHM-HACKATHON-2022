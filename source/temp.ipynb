{
 "cells": [
  {
   "cell_type": "code",
   "execution_count": null,
   "metadata": {},
   "outputs": [],
   "source": [
    "import pandas as pd\n",
    "import requests\n",
    "import json\n",
    "import time\n",
    "from progress.bar import IncrementalBar\n",
    "import boto3\n",
    "import json\n",
    "import ast\n",
    "import time\n",
    "import sys\n",
    "from pathlib import Path\n",
    "import glob"
   ]
  },
  {
   "cell_type": "code",
   "execution_count": 66,
   "metadata": {},
   "outputs": [
    {
     "name": "stdout",
     "output_type": "stream",
     "text": [
      "<class 'pandas.core.frame.DataFrame'>\n",
      "RangeIndex: 50000 entries, 0 to 49999\n",
      "Data columns (total 36 columns):\n",
      " #   Column        Non-Null Count  Dtype  \n",
      "---  ------        --------------  -----  \n",
      " 0   match_id      50000 non-null  int64  \n",
      " 1   game_mode     50000 non-null  int64  \n",
      " 2   account_id01  30110 non-null  float64\n",
      " 3   hero_id01     50000 non-null  int64  \n",
      " 4   isRadiant01   50000 non-null  bool   \n",
      " 5   account_id02  30348 non-null  float64\n",
      " 6   hero_id02     50000 non-null  int64  \n",
      " 7   isRadiant02   50000 non-null  bool   \n",
      " 8   account_id03  30342 non-null  float64\n",
      " 9   hero_id03     50000 non-null  int64  \n",
      " 10  isRadiant03   50000 non-null  bool   \n",
      " 11  account_id04  30055 non-null  float64\n",
      " 12  hero_id04     50000 non-null  int64  \n",
      " 13  isRadiant04   50000 non-null  bool   \n",
      " 14  account_id05  30077 non-null  float64\n",
      " 15  hero_id05     50000 non-null  int64  \n",
      " 16  isRadiant05   50000 non-null  bool   \n",
      " 17  account_id06  30220 non-null  float64\n",
      " 18  hero_id06     50000 non-null  int64  \n",
      " 19  isRadiant06   50000 non-null  bool   \n",
      " 20  account_id07  30199 non-null  float64\n",
      " 21  hero_id07     50000 non-null  int64  \n",
      " 22  isRadiant07   50000 non-null  bool   \n",
      " 23  account_id08  30046 non-null  float64\n",
      " 24  hero_id08     49999 non-null  float64\n",
      " 25  isRadiant08   49999 non-null  object \n",
      " 26  account_id09  30297 non-null  float64\n",
      " 27  hero_id09     49998 non-null  float64\n",
      " 28  isRadiant09   49998 non-null  object \n",
      " 29  account_id10  29926 non-null  float64\n",
      " 30  hero_id10     49977 non-null  float64\n",
      " 31  isRadiant10   49977 non-null  object \n",
      " 32  radiant_win   49997 non-null  object \n",
      " 33  leagueid      50000 non-null  int64  \n",
      " 34  region        49684 non-null  float64\n",
      " 35  patch         50000 non-null  int64  \n",
      "dtypes: bool(7), float64(14), int64(11), object(4)\n",
      "memory usage: 11.4+ MB\n"
     ]
    }
   ],
   "source": [
    "df = pd.read_parquet(f'D:/Python\\hackathon/new_lake/50k_matches.parquet')\n",
    "df.info()\n",
    "# df.head(10)"
   ]
  },
  {
   "cell_type": "code",
   "execution_count": 67,
   "metadata": {},
   "outputs": [
    {
     "data": {
      "text/plain": [
       "50000"
      ]
     },
     "execution_count": 67,
     "metadata": {},
     "output_type": "execute_result"
    }
   ],
   "source": [
    "len(df)"
   ]
  }
 ],
 "metadata": {
  "kernelspec": {
   "display_name": "Python 3.9.3 64-bit",
   "language": "python",
   "name": "python3"
  },
  "language_info": {
   "codemirror_mode": {
    "name": "ipython",
    "version": 3
   },
   "file_extension": ".py",
   "mimetype": "text/x-python",
   "name": "python",
   "nbconvert_exporter": "python",
   "pygments_lexer": "ipython3",
   "version": "3.9.3"
  },
  "orig_nbformat": 4,
  "vscode": {
   "interpreter": {
    "hash": "47a5897a0978ead4aea8e205f081172506d14dd5b7431a8174922e247ec6cb98"
   }
  }
 },
 "nbformat": 4,
 "nbformat_minor": 2
}
