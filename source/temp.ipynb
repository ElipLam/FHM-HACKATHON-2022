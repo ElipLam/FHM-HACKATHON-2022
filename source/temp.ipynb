{
 "cells": [
  {
   "cell_type": "code",
   "execution_count": 4,
   "metadata": {},
   "outputs": [],
   "source": [
    "\n",
    "account_list1 = set(account_list)\n",
    "account_list1.discard(None)\n",
    "accounts = [*account_list1]\n",
    "# print(len(accounts))\n",
    "account_df = pd.DataFrame(accounts, columns=[\"player_id\"])\n",
    "account_df[\"time\"] = crawl_time\n",
    "account_df[\"downloaded\"] = 0\n",
    "# print(\"Error files:\", error_files)\n",
    "\n",
    "\n"
   ]
  },
  {
   "cell_type": "code",
   "execution_count": 5,
   "metadata": {},
   "outputs": [
    {
     "name": "stdout",
     "output_type": "stream",
     "text": [
      "3746\n"
     ]
    }
   ],
   "source": [
    "print(len(error_files))"
   ]
  },
  {
   "cell_type": "code",
   "execution_count": 18,
   "metadata": {},
   "outputs": [
    {
     "name": "stdout",
     "output_type": "stream",
     "text": [
      "['6612710428', '6612710693', '6612711274', '6612711903', '6612712350', '6612713043', '6612714518', '6612718279', '6612718366', '6612720288']\n",
      "   match_id  start_time  downloaded\n",
      "0     12158  1314201270           0\n",
      "1     12164  1314205112           0\n",
      "2     12172  1314210111           0\n",
      "3     12185  1314213494           0\n",
      "4     12198  1314218033           0\n"
     ]
    }
   ],
   "source": [
    "# reset check downloaded of error_files= 0\n",
    "if error_files != []:\n",
    "    bar1 = IncrementalBar(\n",
    "        \"Reseting check downloaded...\",\n",
    "        max=len(error_files),\n",
    "        suffix=\"%(index)d/%(max)d | %(elapsed_td)s\",\n",
    "    )\n",
    "    errors_id = [get_filename_extension(err)[0] for err in error_files]\n",
    "    print(errors_id[:10])\n",
    "    out_put = str(Path(ROOT, \"check_download_match_id.parquet\"))\n",
    "    check_download_df = pd.read_parquet(out_put)\n",
    "    for match_id in errors_id:\n",
    "        "
   ]
  },
  {
   "cell_type": "code",
   "execution_count": null,
   "metadata": {},
   "outputs": [],
   "source": [
    "check_download_df.loc[check_download_df[\"match_id\"] == match_id, \"downloaded\" ] = 0\n",
    "        bar1.next()\n",
    "    check_download_df.to_parquet(out_put, index=False)\n",
    "    bar1.finish()\n",
    "    # temp_df = pd.read_parquet(file_path)\n",
    "    # # print(df.head())\n",
    "    # check_download_df.loc[check_download_df[\"match_id\"] == id, \"downloaded\"] = value\n",
    "    print(check_download_df.head())\n",
    "    # temp_df.to_parquet(file_path, index=False)\n",
    "\n"
   ]
  },
  {
   "cell_type": "code",
   "execution_count": 7,
   "metadata": {},
   "outputs": [
    {
     "data": {
      "text/html": [
       "<div>\n",
       "<style scoped>\n",
       "    .dataframe tbody tr th:only-of-type {\n",
       "        vertical-align: middle;\n",
       "    }\n",
       "\n",
       "    .dataframe tbody tr th {\n",
       "        vertical-align: top;\n",
       "    }\n",
       "\n",
       "    .dataframe thead th {\n",
       "        text-align: right;\n",
       "    }\n",
       "</style>\n",
       "<table border=\"1\" class=\"dataframe\">\n",
       "  <thead>\n",
       "    <tr style=\"text-align: right;\">\n",
       "      <th></th>\n",
       "      <th>player_id</th>\n",
       "      <th>time</th>\n",
       "      <th>downloaded</th>\n",
       "    </tr>\n",
       "  </thead>\n",
       "  <tbody>\n",
       "    <tr>\n",
       "      <th>0</th>\n",
       "      <td>176291840</td>\n",
       "      <td>1658907982</td>\n",
       "      <td>0</td>\n",
       "    </tr>\n",
       "    <tr>\n",
       "      <th>1</th>\n",
       "      <td>77594626</td>\n",
       "      <td>1658907982</td>\n",
       "      <td>0</td>\n",
       "    </tr>\n",
       "    <tr>\n",
       "      <th>2</th>\n",
       "      <td>114032643</td>\n",
       "      <td>1658907982</td>\n",
       "      <td>0</td>\n",
       "    </tr>\n",
       "    <tr>\n",
       "      <th>3</th>\n",
       "      <td>110493700</td>\n",
       "      <td>1658907982</td>\n",
       "      <td>0</td>\n",
       "    </tr>\n",
       "    <tr>\n",
       "      <th>4</th>\n",
       "      <td>73400325</td>\n",
       "      <td>1658907982</td>\n",
       "      <td>0</td>\n",
       "    </tr>\n",
       "  </tbody>\n",
       "</table>\n",
       "</div>"
      ],
      "text/plain": [
       "   player_id        time  downloaded\n",
       "0  176291840  1658907982           0\n",
       "1   77594626  1658907982           0\n",
       "2  114032643  1658907982           0\n",
       "3  110493700  1658907982           0\n",
       "4   73400325  1658907982           0"
      ]
     },
     "execution_count": 7,
     "metadata": {},
     "output_type": "execute_result"
    }
   ],
   "source": [
    "import pandas as pd\n",
    "check_download_df = pd.read_parquet('D:\\Python\\hackathon\\check_download_player_id.parquet')\n",
    "check_download_df.head()"
   ]
  },
  {
   "cell_type": "code",
   "execution_count": 52,
   "metadata": {},
   "outputs": [],
   "source": [
    "# check_download_df.loc[check_download_df[\"player_id\"] == 85328252, \"downloaded\" ] =0"
   ]
  },
  {
   "cell_type": "code",
   "execution_count": 6,
   "metadata": {},
   "outputs": [
    {
     "data": {
      "text/html": [
       "<div>\n",
       "<style scoped>\n",
       "    .dataframe tbody tr th:only-of-type {\n",
       "        vertical-align: middle;\n",
       "    }\n",
       "\n",
       "    .dataframe tbody tr th {\n",
       "        vertical-align: top;\n",
       "    }\n",
       "\n",
       "    .dataframe thead th {\n",
       "        text-align: right;\n",
       "    }\n",
       "</style>\n",
       "<table border=\"1\" class=\"dataframe\">\n",
       "  <thead>\n",
       "    <tr style=\"text-align: right;\">\n",
       "      <th></th>\n",
       "      <th>player_id</th>\n",
       "      <th>time</th>\n",
       "      <th>downloaded</th>\n",
       "    </tr>\n",
       "  </thead>\n",
       "  <tbody>\n",
       "    <tr>\n",
       "      <th>194</th>\n",
       "      <td>98435532</td>\n",
       "      <td>1658907982</td>\n",
       "      <td>1</td>\n",
       "    </tr>\n",
       "  </tbody>\n",
       "</table>\n",
       "</div>"
      ],
      "text/plain": [
       "     player_id        time  downloaded\n",
       "194   98435532  1658907982           1"
      ]
     },
     "execution_count": 6,
     "metadata": {},
     "output_type": "execute_result"
    }
   ],
   "source": [
    "check_download_df[check_download_df[\"player_id\"] == 98435532]"
   ]
  },
  {
   "cell_type": "code",
   "execution_count": 4,
   "metadata": {},
   "outputs": [
    {
     "name": "stdout",
     "output_type": "stream",
     "text": [
      "53334\n"
     ]
    }
   ],
   "source": [
    "print(len(check_download_df))"
   ]
  },
  {
   "cell_type": "code",
   "execution_count": null,
   "metadata": {},
   "outputs": [],
   "source": [
    "# for k in data.keys():\n",
    "#     print(str(k), len(data[k]))\n",
    "match_df = pd.DataFrame(data)\n",
    "# print(df.head())\n",
    "account_df.to_parquet(CHECK_FILE, index=False)\n",
    "match_df.to_parquet(OUTPUT_FILE, index=False)\n",
    "print(\"Done.\")\n",
    "\n",
    "# df = pd.DataFrame(data_json)\n",
    "# print(data)\n",
    "\n",
    "# df = pd.read_json(\"crawled_data/matches/2022/7/10/6654586166.json\")\n",
    "# print(df.head())\n",
    "if __name__ == \"__main__\":\n",
    "    pass\n"
   ]
  },
  {
   "cell_type": "code",
   "execution_count": 8,
   "metadata": {},
   "outputs": [
    {
     "name": "stdout",
     "output_type": "stream",
     "text": [
      "2762\n"
     ]
    }
   ],
   "source": [
    "import json\n",
    "with open(f'D:\\Python\\hackathon\\crawled_data\\pro_player.json','rb') as f:\n",
    "    data = json.load(f)\n",
    "    print(len(data))"
   ]
  }
 ],
 "metadata": {
  "kernelspec": {
   "display_name": "Python 3.9.3 64-bit",
   "language": "python",
   "name": "python3"
  },
  "language_info": {
   "codemirror_mode": {
    "name": "ipython",
    "version": 3
   },
   "file_extension": ".py",
   "mimetype": "text/x-python",
   "name": "python",
   "nbconvert_exporter": "python",
   "pygments_lexer": "ipython3",
   "version": "3.9.3"
  },
  "orig_nbformat": 4,
  "vscode": {
   "interpreter": {
    "hash": "47a5897a0978ead4aea8e205f081172506d14dd5b7431a8174922e247ec6cb98"
   }
  }
 },
 "nbformat": 4,
 "nbformat_minor": 2
}
